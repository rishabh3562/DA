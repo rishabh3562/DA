{
 "cells": [
  {
   "cell_type": "code",
   "execution_count": 1,
   "id": "88edbdc5-b5f2-4ea0-8207-019945088da7",
   "metadata": {},
   "outputs": [
    {
     "name": "stdout",
     "output_type": "stream",
     "text": [
      "   Unnamed: 0  Gender EthnicGroup          ParentEduc     LunchType TestPrep  \\\n",
      "0           0  female         NaN   bachelor's degree      standard     none   \n",
      "1           1  female     group C        some college      standard      NaN   \n",
      "2           2  female     group B     master's degree      standard     none   \n",
      "3           3    male     group A  associate's degree  free/reduced     none   \n",
      "4           4    male     group C        some college      standard     none   \n",
      "\n",
      "  ParentMaritalStatus PracticeSport IsFirstChild  NrSiblings TransportMeans  \\\n",
      "0             married     regularly          yes         3.0     school_bus   \n",
      "1             married     sometimes          yes         0.0            NaN   \n",
      "2              single     sometimes          yes         4.0     school_bus   \n",
      "3             married         never           no         1.0            NaN   \n",
      "4             married     sometimes          yes         0.0     school_bus   \n",
      "\n",
      "  WklyStudyHours  MathScore  ReadingScore  WritingScore  \n",
      "0            < 5         71            71            74  \n",
      "1         5 - 10         69            90            88  \n",
      "2            < 5         87            93            91  \n",
      "3         5 - 10         45            56            42  \n",
      "4         5 - 10         76            78            75  \n"
     ]
    }
   ],
   "source": [
    "import pandas as pd\n",
    "df = pd.read_csv(\"data1.csv\")\n",
    "print(df.head())"
   ]
  },
  {
   "cell_type": "code",
   "execution_count": 10,
   "id": "030c3e3f-7c05-49b3-979b-0f8af2312cdd",
   "metadata": {},
   "outputs": [
    {
     "name": "stdout",
     "output_type": "stream",
     "text": [
      "       Unnamed: 0  Gender  EthnicGroup  ParentEduc  LunchType  TestPrep  \\\n",
      "0           False   False         True       False      False     False   \n",
      "1           False   False        False       False      False      True   \n",
      "2           False   False        False       False      False     False   \n",
      "3           False   False        False       False      False     False   \n",
      "4           False   False        False       False      False     False   \n",
      "...           ...     ...          ...         ...        ...       ...   \n",
      "30636       False   False        False       False      False     False   \n",
      "30637       False   False        False       False      False     False   \n",
      "30638       False   False         True       False      False     False   \n",
      "30639       False   False        False       False      False     False   \n",
      "30640       False   False        False       False      False     False   \n",
      "\n",
      "       ParentMaritalStatus  PracticeSport  IsFirstChild  NrSiblings  \\\n",
      "0                    False          False         False       False   \n",
      "1                    False          False         False       False   \n",
      "2                    False          False         False       False   \n",
      "3                    False          False         False       False   \n",
      "4                    False          False         False       False   \n",
      "...                    ...            ...           ...         ...   \n",
      "30636                False          False         False       False   \n",
      "30637                False          False         False       False   \n",
      "30638                False          False         False       False   \n",
      "30639                False          False         False       False   \n",
      "30640                False          False         False       False   \n",
      "\n",
      "       TransportMeans  WklyStudyHours  MathScore  ReadingScore  WritingScore  \n",
      "0               False           False      False         False         False  \n",
      "1                True           False      False         False         False  \n",
      "2               False           False      False         False         False  \n",
      "3                True           False      False         False         False  \n",
      "4               False           False      False         False         False  \n",
      "...               ...             ...        ...           ...           ...  \n",
      "30636           False           False      False         False         False  \n",
      "30637           False           False      False         False         False  \n",
      "30638           False           False      False         False         False  \n",
      "30639           False           False      False         False         False  \n",
      "30640           False           False      False         False         False  \n",
      "\n",
      "[30641 rows x 15 columns]\n"
     ]
    }
   ],
   "source": [
    "#to print null values in default true or false format\n",
    "null=df.isnull()\n",
    "print(null)"
   ]
  },
  {
   "cell_type": "code",
   "execution_count": 11,
   "id": "50b35d37-b9af-4940-97dd-c71c8a4360dc",
   "metadata": {},
   "outputs": [
    {
     "name": "stdout",
     "output_type": "stream",
     "text": [
      "Unnamed: 0                0\n",
      "Gender                    0\n",
      "EthnicGroup            1840\n",
      "ParentEduc             1845\n",
      "LunchType                 0\n",
      "TestPrep               1830\n",
      "ParentMaritalStatus    1190\n",
      "PracticeSport           631\n",
      "IsFirstChild            904\n",
      "NrSiblings             1572\n",
      "TransportMeans         3134\n",
      "WklyStudyHours          955\n",
      "MathScore                 0\n",
      "ReadingScore              0\n",
      "WritingScore              0\n",
      "dtype: int64\n"
     ]
    }
   ],
   "source": [
    "null_count_list=null.sum()\n",
    "print(null_count_list)"
   ]
  },
  {
   "cell_type": "code",
   "execution_count": 3,
   "id": "79facc35-acef-4dce-932b-b22b34af846d",
   "metadata": {},
   "outputs": [
    {
     "name": "stdout",
     "output_type": "stream",
     "text": [
      "['Unnamed: 0', 'Gender', 'EthnicGroup', 'ParentEduc', 'LunchType', 'TestPrep', 'ParentMaritalStatus', 'PracticeSport', 'IsFirstChild', 'NrSiblings', 'TransportMeans', 'WklyStudyHours', 'MathScore', 'ReadingScore', 'WritingScore']\n"
     ]
    }
   ],
   "source": [
    "column_names=df.columns\n",
    "column_names_list = list(column_names)\n",
    "print(column_names_list)\n",
    "\n"
   ]
  },
  {
   "cell_type": "code",
   "execution_count": 4,
   "id": "157daae2-21a2-4957-9776-b79016b21d16",
   "metadata": {},
   "outputs": [
    {
     "name": "stdout",
     "output_type": "stream",
     "text": [
      "0        female\n",
      "1        female\n",
      "2        female\n",
      "3          male\n",
      "4          male\n",
      "          ...  \n",
      "30636    female\n",
      "30637      male\n",
      "30638    female\n",
      "30639    female\n",
      "30640      male\n",
      "Name: Gender, Length: 30641, dtype: object\n"
     ]
    }
   ],
   "source": [
    "gender = df['Gender']\n",
    "print(gender)\n"
   ]
  },
  {
   "cell_type": "code",
   "execution_count": 5,
   "id": "1b4cd377-6484-4465-8037-8b22eaa59a05",
   "metadata": {},
   "outputs": [
    {
     "name": "stdout",
     "output_type": "stream",
     "text": [
      "Gender\n",
      "female    15424\n",
      "male      15217\n",
      "Name: count, dtype: int64\n"
     ]
    },
    {
     "data": {
      "image/png": "[encoded data removed]",
      "text/plain": [
       "<Figure size 640x480 with 1 Axes>"
      ]
     },
     "metadata": {},
     "output_type": "display_data"
    }
   ],
   "source": [
    "import matplotlib.pyplot as plt\n",
    "\n",
    "gender=df[\"Gender\"]\n",
    "gender_counts = gender.value_counts()\n",
    "print(gender_counts)\n",
    "# Plotting\n",
    "plt.bar(gender_counts.index, gender_counts.values, color=['pink', 'blue'])\n",
    "plt.xlabel('Gender')\n",
    "plt.ylabel('Count')\n",
    "plt.title('Distribution of Student Genders')\n",
    "plt.show()\n"
   ]
  },
  {
   "cell_type": "code",
   "execution_count": 8,
   "id": "369b6b29-0307-4733-b9d8-8c6015d9a6d6",
   "metadata": {},
   "outputs": [
    {
     "name": "stdout",
     "output_type": "stream",
     "text": [
      "       Unnamed: 0  Gender  EthnicGroup  ParentEduc  LunchType  TestPrep  \\\n",
      "0           False   False         True       False      False     False   \n",
      "1           False   False        False       False      False      True   \n",
      "2           False   False        False       False      False     False   \n",
      "3           False   False        False       False      False     False   \n",
      "4           False   False        False       False      False     False   \n",
      "...           ...     ...          ...         ...        ...       ...   \n",
      "30636       False   False        False       False      False     False   \n",
      "30637       False   False        False       False      False     False   \n",
      "30638       False   False         True       False      False     False   \n",
      "30639       False   False        False       False      False     False   \n",
      "30640       False   False        False       False      False     False   \n",
      "\n",
      "       ParentMaritalStatus  PracticeSport  IsFirstChild  NrSiblings  \\\n",
      "0                    False          False         False       False   \n",
      "1                    False          False         False       False   \n",
      "2                    False          False         False       False   \n",
      "3                    False          False         False       False   \n",
      "4                    False          False         False       False   \n",
      "...                    ...            ...           ...         ...   \n",
      "30636                False          False         False       False   \n",
      "30637                False          False         False       False   \n",
      "30638                False          False         False       False   \n",
      "30639                False          False         False       False   \n",
      "30640                False          False         False       False   \n",
      "\n",
      "       TransportMeans  WklyStudyHours  MathScore  ReadingScore  WritingScore  \n",
      "0               False           False      False         False         False  \n",
      "1                True           False      False         False         False  \n",
      "2               False           False      False         False         False  \n",
      "3                True           False      False         False         False  \n",
      "4               False           False      False         False         False  \n",
      "...               ...             ...        ...           ...           ...  \n",
      "30636           False           False      False         False         False  \n",
      "30637           False           False      False         False         False  \n",
      "30638           False           False      False         False         False  \n",
      "30639           False           False      False         False         False  \n",
      "30640           False           False      False         False         False  \n",
      "\n",
      "[30641 rows x 15 columns]\n"
     ]
    }
   ],
   "source": [
    "print(null)"
   ]
  },
  {
   "cell_type": "code",
   "execution_count": null,
   "id": "6534d377-6a21-4a0d-a41b-acb1ac515146",
   "metadata": {},
   "outputs": [],
   "source": []
  },
  {
   "cell_type": "code",
   "execution_count": null,
   "id": "31ff033e-9c8e-4a8e-87cc-a7525aaf0667",
   "metadata": {},
   "outputs": [],
   "source": []
  }
 ],
 "metadata": {
  "kernelspec": {
   "display_name": "Python 3 (ipykernel)",
   "language": "python",
   "name": "python3"
  },
  "language_info": {
   "codemirror_mode": {
    "name": "ipython",
    "version": 3
   },
   "file_extension": ".py",
   "mimetype": "text/x-python",
   "name": "python",
   "nbconvert_exporter": "python",
   "pygments_lexer": "ipython3",
   "version": "3.12.1"
  }
 },
 "nbformat": 4,
 "nbformat_minor": 5
}
