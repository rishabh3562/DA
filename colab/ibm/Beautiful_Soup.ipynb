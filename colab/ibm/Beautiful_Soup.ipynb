{
  "nbformat": 4,
  "nbformat_minor": 0,
  "metadata": {
    "colab": {
      "provenance": [],
      "authorship_tag": "ABX9TyNit0/BJ1KCQ5sRhWZCRYko",
      "include_colab_link": true
    },
    "kernelspec": {
      "name": "python3",
      "display_name": "Python 3"
    },
    "language_info": {
      "name": "python"
    }
  },
  "cells": [
    {
      "cell_type": "markdown",
      "metadata": {
        "id": "view-in-github",
        "colab_type": "text"
      },
      "source": [
        "<a href=\"https://colab.research.google.com/github/rishabh3562/DA/blob/main/colab/ibm/Beautiful_Soup.ipynb\" target=\"_parent\"><img src=\"https://colab.research.google.com/assets/colab-badge.svg\" alt=\"Open In Colab\"/></a>"
      ]
    },
    {
      "cell_type": "code",
      "source": [
        "pip install requests beautifulsoup4 lxml"
      ],
      "metadata": {
        "colab": {
          "base_uri": "https://localhost:8080/"
        },
        "id": "91mu7E3d8Id6",
        "outputId": "e925eaba-fa72-4b6e-fb27-3ede3e378359",
        "collapsed": true
      },
      "execution_count": null,
      "outputs": [
        {
          "output_type": "stream",
          "name": "stdout",
          "text": [
            "Requirement already satisfied: requests in /usr/local/lib/python3.11/dist-packages (2.32.3)\n",
            "Requirement already satisfied: beautifulsoup4 in /usr/local/lib/python3.11/dist-packages (4.12.3)\n",
            "Requirement already satisfied: lxml in /usr/local/lib/python3.11/dist-packages (5.3.0)\n",
            "Requirement already satisfied: charset-normalizer<4,>=2 in /usr/local/lib/python3.11/dist-packages (from requests) (3.4.1)\n",
            "Requirement already satisfied: idna<4,>=2.5 in /usr/local/lib/python3.11/dist-packages (from requests) (3.10)\n",
            "Requirement already satisfied: urllib3<3,>=1.21.1 in /usr/local/lib/python3.11/dist-packages (from requests) (2.3.0)\n",
            "Requirement already satisfied: certifi>=2017.4.17 in /usr/local/lib/python3.11/dist-packages (from requests) (2024.12.14)\n",
            "Requirement already satisfied: soupsieve>1.2 in /usr/local/lib/python3.11/dist-packages (from beautifulsoup4) (2.6)\n"
          ]
        }
      ]
    },
    {
      "cell_type": "code",
      "execution_count": null,
      "metadata": {
        "id": "5a6ZoBtm5TcK"
      },
      "outputs": [],
      "source": [
        "from bs4 import BeautifulSoup\n",
        "\n",
        "html_doc = \"\"\"\n",
        "<html>\n",
        "    <head><title>My Website</title></head>\n",
        "    <body>\n",
        "        <h1>Welcome to My Website</h1>\n",
        "        <p class=\"intro\">This is a paragraph.</p>\n",
        "        <p class=\"content\">Another paragraph.</p>\n",
        "        <ul id=\"ulist\">\n",
        "            <li>Apple</li>\n",
        "            <li>Banana</li>\n",
        "            <li>Cherry</li>\n",
        "        </ul>\n",
        "    </body>\n",
        "</html>\n",
        "\"\"\"\n",
        "\n",
        "# soup = BeautifulSoup(html_doc, \"html.parser\")\n",
        "soup = BeautifulSoup(html_doc, 'lxml')\n",
        "\n"
      ]
    },
    {
      "cell_type": "code",
      "source": [
        "soup.p\n"
      ],
      "metadata": {
        "colab": {
          "base_uri": "https://localhost:8080/"
        },
        "id": "fQcuNNtRNWfq",
        "outputId": "10cb5318-fea8-4386-eccf-1aee5334d5ef"
      },
      "execution_count": null,
      "outputs": [
        {
          "output_type": "execute_result",
          "data": {
            "text/plain": [
              "<p class=\"intro\">This is a paragraph.</p>"
            ]
          },
          "metadata": {},
          "execution_count": 6
        }
      ]
    },
    {
      "cell_type": "code",
      "source": [
        "p=soup.find_all('p')\n",
        "print(type(p))\n",
        "print(type(p[0]))\n",
        "p1=p[0]\n",
        "\n"
      ],
      "metadata": {
        "colab": {
          "base_uri": "https://localhost:8080/"
        },
        "id": "akjQN5EqNW_g",
        "outputId": "177c17ad-b6e2-43df-d310-520f418c1369"
      },
      "execution_count": null,
      "outputs": [
        {
          "output_type": "stream",
          "name": "stdout",
          "text": [
            "<class 'bs4.element.ResultSet'>\n",
            "<class 'bs4.element.Tag'>\n",
            "set()\n"
          ]
        }
      ]
    },
    {
      "cell_type": "code",
      "source": [
        "classes = set()\n",
        "for tag in soup.find_all(class_=True):  # Finds all tags with a class attribute\n",
        "    classes.update(tag.get('class', []))  # Adds multiple classes from a tag\n",
        "\n",
        "print(classes)  # Unique class names"
      ],
      "metadata": {
        "colab": {
          "base_uri": "https://localhost:8080/"
        },
        "id": "RADXjochPuYh",
        "outputId": "b0a2e975-d114-408d-cd3a-98d51ce48dbe"
      },
      "execution_count": null,
      "outputs": [
        {
          "output_type": "stream",
          "name": "stdout",
          "text": [
            "{'intro', 'content'}\n"
          ]
        }
      ]
    },
    {
      "cell_type": "code",
      "source": [
        "ids = {tag.get('id') for tag in soup.find_all(id=True)}  # Finds all tags with an ID attribute\n",
        "print(ids)  # Unique ID names\n"
      ],
      "metadata": {
        "colab": {
          "base_uri": "https://localhost:8080/"
        },
        "id": "Vh4SX4hUOJsm",
        "outputId": "8663a8db-f66b-4ba3-ff87-4916ac296bd4"
      },
      "execution_count": null,
      "outputs": [
        {
          "output_type": "stream",
          "name": "stdout",
          "text": [
            "{'ulist'}\n"
          ]
        }
      ]
    },
    {
      "cell_type": "code",
      "source": [
        "import requests\n",
        "from bs4 import BeautifulSoup\n",
        "\n",
        "# Fetch page content\n",
        "# url = 'https://en.wikipedia.org/wiki/List_of_Indian_metropolitan_areas_by_GDP'\n",
        "url=\"https://en.wikipedia.org/wiki/List_of_Indians_by_net_worth\"\n",
        "response = requests.get(url)\n",
        "soup = BeautifulSoup(response.text, 'lxml')\n",
        "\n",
        "# Get all tables and store them in a list\n",
        "tables = soup.find_all('table',class_='wikitable')\n",
        "\n",
        "# Extract data from each table\n",
        "tables_data = []\n",
        "tables_header=[]\n",
        "for table in tables:\n",
        "    rows = table.find_all('tr')\n",
        "    header = rows[0].find_all('th')\n",
        "    header = [col.get_text(strip=True) for col in header]\n",
        "    tables_header.append(header)\n",
        "    table_data = []\n",
        "    for row in rows:\n",
        "        cols = row.find_all('td')\n",
        "        cols = [col.get_text(strip=True) for col in cols]\n",
        "        table_data.append(cols)\n",
        "    tables_data.append(table_data)\n",
        "\n",
        "# Print all tables data (for demonstration)\n",
        "for index, table in enumerate(tables_data, start=1):\n",
        "    print(f\"Table {index}:\")\n",
        "    for row in table:\n",
        "        print(row)\n",
        "    print()\n",
        "tables_header"
      ],
      "metadata": {
        "colab": {
          "base_uri": "https://localhost:8080/"
        },
        "id": "qi1EY-ggPeIQ",
        "outputId": "46353c43-caf4-4ea2-8d9f-7a384378a9a9"
      },
      "execution_count": null,
      "outputs": [
        {
          "output_type": "stream",
          "name": "stdout",
          "text": [
            "Table 1:\n",
            "[]\n",
            "['1', 'Mukesh Ambani', '', '116 billion', 'Reliance Industries', 'Diversified']\n",
            "['2', 'Gautam Adani', '', '84 billion', 'Adani Group', 'Diversified']\n",
            "['3', 'Shiv Nadar', '', '36.9 billion', 'HCL Technologies', 'IT services and consulting']\n",
            "['4', 'Savitri Jindal', '', '33.5 billion', 'JSW GroupJindal Steel & PowerJindal Stainless Limited', 'Steel, energy, cement and infrastructure']\n",
            "['5', 'Dilip Shanghvi', '', '26.7 billion', 'Sun Pharmaceutical Industries', 'Pharmaceuticals']\n",
            "['6', 'Cyrus Poonawalla', '', '21.3 billion', 'Serum Institute of India', 'Vaccines']\n",
            "['7', 'Kushal Pal Singh', '', '20.9 billion', 'DLF', 'Real estate']\n",
            "['8', 'Kumar Mangalam Birla', '', '19.7 billion', 'Aditya Birla Group', 'Textiles, telecom, cement']\n",
            "['9', 'Radhakishan Damani', '', '17.6 billion', 'Avenue Supermarts,DMart', 'Investments, retail']\n",
            "['10', 'Lakshmi Mittal', '', '16.4 billion', 'ArcelorMittal', 'Steel']\n",
            "['11', 'Ravi Jaipuria', '', '16.2 billion', 'RJ Corp', 'Fast food']\n",
            "['12', 'Uday Kotak', '', '13.3 billion', 'Kotak Mahindra Bank', 'Banking']\n",
            "['13', 'Azim Premji', '', '12.0 billion', 'Wipro Group', 'IT services and consulting']\n",
            "['14', 'Mangal Lodha', '', '10.4 billion', 'Lodha Group', 'Real Estate']\n",
            "['15', 'Pankaj Patel', '', '9.5 billion', 'Zydus Lifesciences', 'Pharmaceuticals']\n",
            "['16', 'Sunil Mittal', '', '9.2 billion', 'Bharti Enterprises', 'Telecom']\n",
            "['17', 'Rekha Jhunjhunwala', '', '8.5 billion', 'Rare Enterprises', 'Investments']\n",
            "['18', 'Hasmukh Chudgar& family', '', '7.7 billion', 'Intas Pharmaceuticals', 'Pharmaceuticals']\n",
            "['19', 'M. A. Yusuff Ali', '', '7.6 billion', 'LuLu Group International', 'Retail']\n",
            "['20', 'Gopikishan Damani& family', '', '7.0 billion', 'Avenue Supermarts,DMart', 'Investments, retail']\n",
            "['21', 'Benu Gopal Bangur', '', '6.8 billion', 'Shree Cement', 'Cement']\n",
            "['22', 'Vikram Lal', '', '6.7 billion', 'Eicher Motors', 'Automotive']\n",
            "['23', 'Murali Divi& family', '', '6.2 billion', \"Divi's Laboratories\", 'Pharmaceuticals']\n",
            "['24', 'Rajan Mittal', '', '6.0 billion', 'Bharti Enterprises', 'Telecom']\n",
            "['24', 'Rakesh Mittal', '', '6.0 billion', 'Bharti Enterprises', 'Telecom']\n",
            "\n",
            "Table 2:\n",
            "[]\n",
            "['1', 'Savitri Jindal', '33.5 billion', 'JSW Group,Jindal Steel & Power', 'Steel, energy, cement and infrastructure']\n",
            "['2', 'Rekha Jhunjhunwala', '8.5 billion', 'Rare Enterprises', 'Investments']\n",
            "['3', 'Vinod Rai Gupta', '5.0 billion', 'Havells', 'Manufacturing']\n",
            "['4', 'Renuka Jagtiani', '4.8 billion', 'Landmark Group', 'Fashion & Retail']\n",
            "['5', 'Smita Crishna-Godrej', '3.8 billion', 'Godrej Group', 'Consumer goods, real estate']\n",
            "\n"
          ]
        },
        {
          "output_type": "execute_result",
          "data": {
            "text/plain": [
              "[['Rank',\n",
              "  'Name',\n",
              "  'WealthChange',\n",
              "  'Net worth(USD)',\n",
              "  'Company',\n",
              "  'Sources of wealth'],\n",
              " ['Rank', 'Name', 'Net worth(USD)', 'Company', 'Sources of Wealth']]"
            ]
          },
          "metadata": {},
          "execution_count": 31
        }
      ]
    },
    {
      "cell_type": "code",
      "source": [
        "import requests\n",
        "from bs4 import BeautifulSoup\n",
        "import pandas as pd\n",
        "\n",
        "url = \"https://en.wikipedia.org/wiki/List_of_Indian_metropolitan_areas_by_GDP\"\n",
        "response = requests.get(url)\n",
        "soup = BeautifulSoup(response.text, \"lxml\")\n",
        "\n",
        "# Find the first table (usually the main data table)\n",
        "table = soup.find('table', class_='wikitable')\n",
        "\n",
        "# Extract rows\n",
        "rows = table.find_all('tr')\n",
        "data = []\n",
        "\n",
        "for row in rows[1:]:  # Skip header row\n",
        "    cols = row.find_all('td')\n",
        "    cols = [col.get_text(strip=True) for col in cols]\n",
        "    if cols:\n",
        "        data.append(cols)\n",
        "\n",
        "# Convert to DataFrame\n",
        "df = pd.DataFrame(data, columns=[\"Rank\", \"City\", \"State\", \"GDP (Nominal)\", \"GDP (PPP)\"])\n",
        "print(df)\n",
        "\n",
        "# Save to CSV\n",
        "df.to_csv(\"indian_cities_gdp.csv\", index=False)\n"
      ],
      "metadata": {
        "colab": {
          "base_uri": "https://localhost:8080/",
          "height": 408
        },
        "id": "9DXS0aviPIB2",
        "outputId": "35277968-4865-4281-e3df-2efe103f77d5"
      },
      "execution_count": null,
      "outputs": [
        {
          "output_type": "error",
          "ename": "ValueError",
          "evalue": "5 columns passed, passed data had 10 columns",
          "traceback": [
            "\u001b[0;31m---------------------------------------------------------------------------\u001b[0m",
            "\u001b[0;31mAssertionError\u001b[0m                            Traceback (most recent call last)",
            "\u001b[0;32m/usr/local/lib/python3.11/dist-packages/pandas/core/internals/construction.py\u001b[0m in \u001b[0;36m_finalize_columns_and_data\u001b[0;34m(content, columns, dtype)\u001b[0m\n\u001b[1;32m    938\u001b[0m     \u001b[0;32mtry\u001b[0m\u001b[0;34m:\u001b[0m\u001b[0;34m\u001b[0m\u001b[0;34m\u001b[0m\u001b[0m\n\u001b[0;32m--> 939\u001b[0;31m         \u001b[0mcolumns\u001b[0m \u001b[0;34m=\u001b[0m \u001b[0m_validate_or_indexify_columns\u001b[0m\u001b[0;34m(\u001b[0m\u001b[0mcontents\u001b[0m\u001b[0;34m,\u001b[0m \u001b[0mcolumns\u001b[0m\u001b[0;34m)\u001b[0m\u001b[0;34m\u001b[0m\u001b[0;34m\u001b[0m\u001b[0m\n\u001b[0m\u001b[1;32m    940\u001b[0m     \u001b[0;32mexcept\u001b[0m \u001b[0mAssertionError\u001b[0m \u001b[0;32mas\u001b[0m \u001b[0merr\u001b[0m\u001b[0;34m:\u001b[0m\u001b[0;34m\u001b[0m\u001b[0;34m\u001b[0m\u001b[0m\n",
            "\u001b[0;32m/usr/local/lib/python3.11/dist-packages/pandas/core/internals/construction.py\u001b[0m in \u001b[0;36m_validate_or_indexify_columns\u001b[0;34m(content, columns)\u001b[0m\n\u001b[1;32m    985\u001b[0m             \u001b[0;31m# caller's responsibility to check for this...\u001b[0m\u001b[0;34m\u001b[0m\u001b[0;34m\u001b[0m\u001b[0m\n\u001b[0;32m--> 986\u001b[0;31m             raise AssertionError(\n\u001b[0m\u001b[1;32m    987\u001b[0m                 \u001b[0;34mf\"{len(columns)} columns passed, passed data had \"\u001b[0m\u001b[0;34m\u001b[0m\u001b[0;34m\u001b[0m\u001b[0m\n",
            "\u001b[0;31mAssertionError\u001b[0m: 5 columns passed, passed data had 10 columns",
            "\nThe above exception was the direct cause of the following exception:\n",
            "\u001b[0;31mValueError\u001b[0m                                Traceback (most recent call last)",
            "\u001b[0;32m<ipython-input-15-22eee705d948>\u001b[0m in \u001b[0;36m<cell line: 0>\u001b[0;34m()\u001b[0m\n\u001b[1;32m     21\u001b[0m \u001b[0;34m\u001b[0m\u001b[0m\n\u001b[1;32m     22\u001b[0m \u001b[0;31m# Convert to DataFrame\u001b[0m\u001b[0;34m\u001b[0m\u001b[0;34m\u001b[0m\u001b[0m\n\u001b[0;32m---> 23\u001b[0;31m \u001b[0mdf\u001b[0m \u001b[0;34m=\u001b[0m \u001b[0mpd\u001b[0m\u001b[0;34m.\u001b[0m\u001b[0mDataFrame\u001b[0m\u001b[0;34m(\u001b[0m\u001b[0mdata\u001b[0m\u001b[0;34m,\u001b[0m \u001b[0mcolumns\u001b[0m\u001b[0;34m=\u001b[0m\u001b[0;34m[\u001b[0m\u001b[0;34m\"Rank\"\u001b[0m\u001b[0;34m,\u001b[0m \u001b[0;34m\"City\"\u001b[0m\u001b[0;34m,\u001b[0m \u001b[0;34m\"State\"\u001b[0m\u001b[0;34m,\u001b[0m \u001b[0;34m\"GDP (Nominal)\"\u001b[0m\u001b[0;34m,\u001b[0m \u001b[0;34m\"GDP (PPP)\"\u001b[0m\u001b[0;34m]\u001b[0m\u001b[0;34m)\u001b[0m\u001b[0;34m\u001b[0m\u001b[0;34m\u001b[0m\u001b[0m\n\u001b[0m\u001b[1;32m     24\u001b[0m \u001b[0mprint\u001b[0m\u001b[0;34m(\u001b[0m\u001b[0mdf\u001b[0m\u001b[0;34m)\u001b[0m\u001b[0;34m\u001b[0m\u001b[0;34m\u001b[0m\u001b[0m\n\u001b[1;32m     25\u001b[0m \u001b[0;34m\u001b[0m\u001b[0m\n",
            "\u001b[0;32m/usr/local/lib/python3.11/dist-packages/pandas/core/frame.py\u001b[0m in \u001b[0;36m__init__\u001b[0;34m(self, data, index, columns, dtype, copy)\u001b[0m\n\u001b[1;32m    849\u001b[0m                     \u001b[0;32mif\u001b[0m \u001b[0mcolumns\u001b[0m \u001b[0;32mis\u001b[0m \u001b[0;32mnot\u001b[0m \u001b[0;32mNone\u001b[0m\u001b[0;34m:\u001b[0m\u001b[0;34m\u001b[0m\u001b[0;34m\u001b[0m\u001b[0m\n\u001b[1;32m    850\u001b[0m                         \u001b[0mcolumns\u001b[0m \u001b[0;34m=\u001b[0m \u001b[0mensure_index\u001b[0m\u001b[0;34m(\u001b[0m\u001b[0mcolumns\u001b[0m\u001b[0;34m)\u001b[0m\u001b[0;34m\u001b[0m\u001b[0;34m\u001b[0m\u001b[0m\n\u001b[0;32m--> 851\u001b[0;31m                     arrays, columns, index = nested_data_to_arrays(\n\u001b[0m\u001b[1;32m    852\u001b[0m                         \u001b[0;31m# error: Argument 3 to \"nested_data_to_arrays\" has incompatible\u001b[0m\u001b[0;34m\u001b[0m\u001b[0;34m\u001b[0m\u001b[0m\n\u001b[1;32m    853\u001b[0m                         \u001b[0;31m# type \"Optional[Collection[Any]]\"; expected \"Optional[Index]\"\u001b[0m\u001b[0;34m\u001b[0m\u001b[0;34m\u001b[0m\u001b[0m\n",
            "\u001b[0;32m/usr/local/lib/python3.11/dist-packages/pandas/core/internals/construction.py\u001b[0m in \u001b[0;36mnested_data_to_arrays\u001b[0;34m(data, columns, index, dtype)\u001b[0m\n\u001b[1;32m    518\u001b[0m         \u001b[0mcolumns\u001b[0m \u001b[0;34m=\u001b[0m \u001b[0mensure_index\u001b[0m\u001b[0;34m(\u001b[0m\u001b[0mdata\u001b[0m\u001b[0;34m[\u001b[0m\u001b[0;36m0\u001b[0m\u001b[0;34m]\u001b[0m\u001b[0;34m.\u001b[0m\u001b[0m_fields\u001b[0m\u001b[0;34m)\u001b[0m\u001b[0;34m\u001b[0m\u001b[0;34m\u001b[0m\u001b[0m\n\u001b[1;32m    519\u001b[0m \u001b[0;34m\u001b[0m\u001b[0m\n\u001b[0;32m--> 520\u001b[0;31m     \u001b[0marrays\u001b[0m\u001b[0;34m,\u001b[0m \u001b[0mcolumns\u001b[0m \u001b[0;34m=\u001b[0m \u001b[0mto_arrays\u001b[0m\u001b[0;34m(\u001b[0m\u001b[0mdata\u001b[0m\u001b[0;34m,\u001b[0m \u001b[0mcolumns\u001b[0m\u001b[0;34m,\u001b[0m \u001b[0mdtype\u001b[0m\u001b[0;34m=\u001b[0m\u001b[0mdtype\u001b[0m\u001b[0;34m)\u001b[0m\u001b[0;34m\u001b[0m\u001b[0;34m\u001b[0m\u001b[0m\n\u001b[0m\u001b[1;32m    521\u001b[0m     \u001b[0mcolumns\u001b[0m \u001b[0;34m=\u001b[0m \u001b[0mensure_index\u001b[0m\u001b[0;34m(\u001b[0m\u001b[0mcolumns\u001b[0m\u001b[0;34m)\u001b[0m\u001b[0;34m\u001b[0m\u001b[0;34m\u001b[0m\u001b[0m\n\u001b[1;32m    522\u001b[0m \u001b[0;34m\u001b[0m\u001b[0m\n",
            "\u001b[0;32m/usr/local/lib/python3.11/dist-packages/pandas/core/internals/construction.py\u001b[0m in \u001b[0;36mto_arrays\u001b[0;34m(data, columns, dtype)\u001b[0m\n\u001b[1;32m    843\u001b[0m         \u001b[0marr\u001b[0m \u001b[0;34m=\u001b[0m \u001b[0m_list_to_arrays\u001b[0m\u001b[0;34m(\u001b[0m\u001b[0mdata\u001b[0m\u001b[0;34m)\u001b[0m\u001b[0;34m\u001b[0m\u001b[0;34m\u001b[0m\u001b[0m\n\u001b[1;32m    844\u001b[0m \u001b[0;34m\u001b[0m\u001b[0m\n\u001b[0;32m--> 845\u001b[0;31m     \u001b[0mcontent\u001b[0m\u001b[0;34m,\u001b[0m \u001b[0mcolumns\u001b[0m \u001b[0;34m=\u001b[0m \u001b[0m_finalize_columns_and_data\u001b[0m\u001b[0;34m(\u001b[0m\u001b[0marr\u001b[0m\u001b[0;34m,\u001b[0m \u001b[0mcolumns\u001b[0m\u001b[0;34m,\u001b[0m \u001b[0mdtype\u001b[0m\u001b[0;34m)\u001b[0m\u001b[0;34m\u001b[0m\u001b[0;34m\u001b[0m\u001b[0m\n\u001b[0m\u001b[1;32m    846\u001b[0m     \u001b[0;32mreturn\u001b[0m \u001b[0mcontent\u001b[0m\u001b[0;34m,\u001b[0m \u001b[0mcolumns\u001b[0m\u001b[0;34m\u001b[0m\u001b[0;34m\u001b[0m\u001b[0m\n\u001b[1;32m    847\u001b[0m \u001b[0;34m\u001b[0m\u001b[0m\n",
            "\u001b[0;32m/usr/local/lib/python3.11/dist-packages/pandas/core/internals/construction.py\u001b[0m in \u001b[0;36m_finalize_columns_and_data\u001b[0;34m(content, columns, dtype)\u001b[0m\n\u001b[1;32m    940\u001b[0m     \u001b[0;32mexcept\u001b[0m \u001b[0mAssertionError\u001b[0m \u001b[0;32mas\u001b[0m \u001b[0merr\u001b[0m\u001b[0;34m:\u001b[0m\u001b[0;34m\u001b[0m\u001b[0;34m\u001b[0m\u001b[0m\n\u001b[1;32m    941\u001b[0m         \u001b[0;31m# GH#26429 do not raise user-facing AssertionError\u001b[0m\u001b[0;34m\u001b[0m\u001b[0;34m\u001b[0m\u001b[0m\n\u001b[0;32m--> 942\u001b[0;31m         \u001b[0;32mraise\u001b[0m \u001b[0mValueError\u001b[0m\u001b[0;34m(\u001b[0m\u001b[0merr\u001b[0m\u001b[0;34m)\u001b[0m \u001b[0;32mfrom\u001b[0m \u001b[0merr\u001b[0m\u001b[0;34m\u001b[0m\u001b[0;34m\u001b[0m\u001b[0m\n\u001b[0m\u001b[1;32m    943\u001b[0m \u001b[0;34m\u001b[0m\u001b[0m\n\u001b[1;32m    944\u001b[0m     \u001b[0;32mif\u001b[0m \u001b[0mlen\u001b[0m\u001b[0;34m(\u001b[0m\u001b[0mcontents\u001b[0m\u001b[0;34m)\u001b[0m \u001b[0;32mand\u001b[0m \u001b[0mcontents\u001b[0m\u001b[0;34m[\u001b[0m\u001b[0;36m0\u001b[0m\u001b[0;34m]\u001b[0m\u001b[0;34m.\u001b[0m\u001b[0mdtype\u001b[0m \u001b[0;34m==\u001b[0m \u001b[0mnp\u001b[0m\u001b[0;34m.\u001b[0m\u001b[0mobject_\u001b[0m\u001b[0;34m:\u001b[0m\u001b[0;34m\u001b[0m\u001b[0;34m\u001b[0m\u001b[0m\n",
            "\u001b[0;31mValueError\u001b[0m: 5 columns passed, passed data had 10 columns"
          ]
        }
      ]
    }
  ]
}